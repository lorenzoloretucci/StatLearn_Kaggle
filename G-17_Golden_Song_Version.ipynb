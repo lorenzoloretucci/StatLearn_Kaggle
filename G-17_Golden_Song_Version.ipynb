{
 "cells": [
  {
   "cell_type": "markdown",
   "metadata": {},
   "source": [
    "> # G-17 (best guess single song)"
   ]
  },
  {
   "cell_type": "markdown",
   "metadata": {},
   "source": [
    "The code is the same written in \"G-17_FinalVersion\", we just work on the test_golden_song (named \"song\" in the notebook) set intead of the test set. \\\n",
    "The unique important edit is when we evaluate the mean of the mel frequencies among the 5 audio because we have 5 rows related to the same song."
   ]
  },
  {
   "cell_type": "code",
   "execution_count": 1,
   "metadata": {},
   "outputs": [],
   "source": [
    "import pandas as pd\n",
    "import numpy as np\n",
    "import matplotlib.pyplot as plt\n",
    "\n",
    "\n",
    "from sklearn.model_selection import cross_val_score\n",
    "from sklearn import preprocessing\n",
    "from sklearn.svm import SVR\n",
    "\n",
    "from sklearn.decomposition import KernelPCA\n",
    "from sklearn.metrics import mean_squared_error\n",
    "from sklearn.preprocessing import StandardScaler\n",
    "\n",
    "\n",
    "from scipy.signal import find_peaks\n",
    "from scipy import stats"
   ]
  },
  {
   "cell_type": "code",
   "execution_count": 2,
   "metadata": {},
   "outputs": [],
   "source": [
    "np.random.seed(0)"
   ]
  },
  {
   "cell_type": "code",
   "execution_count": 3,
   "metadata": {},
   "outputs": [],
   "source": [
    "train = pd.read_csv('../input/statistical-learning-sapienza-spring-2020/train/train.csv')\n",
    "song = pd.read_csv('../input/test-golden-song/test_golden_song.csv')\n"
   ]
  },
  {
   "cell_type": "code",
   "execution_count": null,
   "metadata": {},
   "outputs": [],
   "source": [
    "target = train['tempo']\n",
    "del train['id']\n",
    "del train['tempo']\n",
    "song_id = song['id']\n",
    "del song['id']"
   ]
  },
  {
   "cell_type": "code",
   "execution_count": 7,
   "metadata": {},
   "outputs": [],
   "source": [
    "# transform the genre an object type variable\n",
    "train['genre'] = train['genre'].astype('object')\n",
    "song['genre'] = song['genre'].astype('object')\n"
   ]
  },
  {
   "cell_type": "code",
   "execution_count": 8,
   "metadata": {},
   "outputs": [
    {
     "data": {
      "text/html": [
       "<div>\n",
       "<style scoped>\n",
       "    .dataframe tbody tr th:only-of-type {\n",
       "        vertical-align: middle;\n",
       "    }\n",
       "\n",
       "    .dataframe tbody tr th {\n",
       "        vertical-align: top;\n",
       "    }\n",
       "\n",
       "    .dataframe thead th {\n",
       "        text-align: right;\n",
       "    }\n",
       "</style>\n",
       "<table border=\"1\" class=\"dataframe\">\n",
       "  <thead>\n",
       "    <tr style=\"text-align: right;\">\n",
       "      <th></th>\n",
       "      <th>mel1_t1</th>\n",
       "      <th>mel1_t2</th>\n",
       "      <th>mel1_t3</th>\n",
       "      <th>mel1_t4</th>\n",
       "      <th>mel1_t5</th>\n",
       "      <th>mel1_t6</th>\n",
       "      <th>mel1_t7</th>\n",
       "      <th>mel1_t8</th>\n",
       "      <th>mel1_t9</th>\n",
       "      <th>mel1_t10</th>\n",
       "      <th>...</th>\n",
       "      <th>mel40_t162</th>\n",
       "      <th>mel40_t163</th>\n",
       "      <th>mel40_t164</th>\n",
       "      <th>mel40_t165</th>\n",
       "      <th>mel40_t166</th>\n",
       "      <th>mel40_t167</th>\n",
       "      <th>mel40_t168</th>\n",
       "      <th>mel40_t169</th>\n",
       "      <th>mel40_t170</th>\n",
       "      <th>mel40_t171</th>\n",
       "    </tr>\n",
       "  </thead>\n",
       "  <tbody>\n",
       "    <tr>\n",
       "      <th>0</th>\n",
       "      <td>290.390085</td>\n",
       "      <td>288.722822</td>\n",
       "      <td>288.042364</td>\n",
       "      <td>291.096707</td>\n",
       "      <td>293.555758</td>\n",
       "      <td>294.327833</td>\n",
       "      <td>293.001358</td>\n",
       "      <td>292.372787</td>\n",
       "      <td>293.699268</td>\n",
       "      <td>292.456072</td>\n",
       "      <td>...</td>\n",
       "      <td>-0.005104</td>\n",
       "      <td>0.885356</td>\n",
       "      <td>-0.294912</td>\n",
       "      <td>0.065527</td>\n",
       "      <td>0.217196</td>\n",
       "      <td>1.083831</td>\n",
       "      <td>0.154642</td>\n",
       "      <td>-0.128929</td>\n",
       "      <td>1.162814</td>\n",
       "      <td>0.845345</td>\n",
       "    </tr>\n",
       "    <tr>\n",
       "      <th>1</th>\n",
       "      <td>269.622706</td>\n",
       "      <td>270.125309</td>\n",
       "      <td>270.736975</td>\n",
       "      <td>270.239354</td>\n",
       "      <td>268.313192</td>\n",
       "      <td>267.924079</td>\n",
       "      <td>267.500136</td>\n",
       "      <td>265.882130</td>\n",
       "      <td>264.967248</td>\n",
       "      <td>266.238585</td>\n",
       "      <td>...</td>\n",
       "      <td>-0.212971</td>\n",
       "      <td>-0.045549</td>\n",
       "      <td>-0.602041</td>\n",
       "      <td>0.175532</td>\n",
       "      <td>-0.402959</td>\n",
       "      <td>0.456084</td>\n",
       "      <td>0.309465</td>\n",
       "      <td>0.584882</td>\n",
       "      <td>-0.170607</td>\n",
       "      <td>0.074577</td>\n",
       "    </tr>\n",
       "    <tr>\n",
       "      <th>2</th>\n",
       "      <td>264.556740</td>\n",
       "      <td>261.847027</td>\n",
       "      <td>264.186670</td>\n",
       "      <td>266.694661</td>\n",
       "      <td>264.680171</td>\n",
       "      <td>273.278056</td>\n",
       "      <td>275.068353</td>\n",
       "      <td>286.687219</td>\n",
       "      <td>288.950500</td>\n",
       "      <td>292.900308</td>\n",
       "      <td>...</td>\n",
       "      <td>3.453333</td>\n",
       "      <td>2.987845</td>\n",
       "      <td>-0.356687</td>\n",
       "      <td>0.550757</td>\n",
       "      <td>-0.135315</td>\n",
       "      <td>0.387117</td>\n",
       "      <td>-0.252212</td>\n",
       "      <td>-0.313473</td>\n",
       "      <td>-0.543209</td>\n",
       "      <td>0.339174</td>\n",
       "    </tr>\n",
       "    <tr>\n",
       "      <th>3</th>\n",
       "      <td>278.713722</td>\n",
       "      <td>282.041832</td>\n",
       "      <td>285.958713</td>\n",
       "      <td>267.971572</td>\n",
       "      <td>284.349512</td>\n",
       "      <td>286.565490</td>\n",
       "      <td>283.451078</td>\n",
       "      <td>277.679791</td>\n",
       "      <td>269.097672</td>\n",
       "      <td>286.768287</td>\n",
       "      <td>...</td>\n",
       "      <td>-0.982109</td>\n",
       "      <td>-0.774137</td>\n",
       "      <td>-1.245132</td>\n",
       "      <td>-0.645180</td>\n",
       "      <td>1.265170</td>\n",
       "      <td>1.589034</td>\n",
       "      <td>0.507678</td>\n",
       "      <td>-0.070205</td>\n",
       "      <td>-0.492837</td>\n",
       "      <td>0.427526</td>\n",
       "    </tr>\n",
       "    <tr>\n",
       "      <th>4</th>\n",
       "      <td>249.015522</td>\n",
       "      <td>246.178741</td>\n",
       "      <td>244.544047</td>\n",
       "      <td>245.313894</td>\n",
       "      <td>248.335631</td>\n",
       "      <td>247.954608</td>\n",
       "      <td>249.780833</td>\n",
       "      <td>247.391128</td>\n",
       "      <td>248.044933</td>\n",
       "      <td>243.306980</td>\n",
       "      <td>...</td>\n",
       "      <td>0.568611</td>\n",
       "      <td>1.028450</td>\n",
       "      <td>1.676547</td>\n",
       "      <td>1.805884</td>\n",
       "      <td>0.871031</td>\n",
       "      <td>1.575619</td>\n",
       "      <td>1.434036</td>\n",
       "      <td>1.352388</td>\n",
       "      <td>1.078937</td>\n",
       "      <td>2.005797</td>\n",
       "    </tr>\n",
       "  </tbody>\n",
       "</table>\n",
       "<p>5 rows × 6840 columns</p>\n",
       "</div>"
      ],
      "text/plain": [
       "      mel1_t1     mel1_t2     mel1_t3     mel1_t4     mel1_t5     mel1_t6  \\\n",
       "0  290.390085  288.722822  288.042364  291.096707  293.555758  294.327833   \n",
       "1  269.622706  270.125309  270.736975  270.239354  268.313192  267.924079   \n",
       "2  264.556740  261.847027  264.186670  266.694661  264.680171  273.278056   \n",
       "3  278.713722  282.041832  285.958713  267.971572  284.349512  286.565490   \n",
       "4  249.015522  246.178741  244.544047  245.313894  248.335631  247.954608   \n",
       "\n",
       "      mel1_t7     mel1_t8     mel1_t9    mel1_t10  ...  mel40_t162  \\\n",
       "0  293.001358  292.372787  293.699268  292.456072  ...   -0.005104   \n",
       "1  267.500136  265.882130  264.967248  266.238585  ...   -0.212971   \n",
       "2  275.068353  286.687219  288.950500  292.900308  ...    3.453333   \n",
       "3  283.451078  277.679791  269.097672  286.768287  ...   -0.982109   \n",
       "4  249.780833  247.391128  248.044933  243.306980  ...    0.568611   \n",
       "\n",
       "   mel40_t163  mel40_t164  mel40_t165  mel40_t166  mel40_t167  mel40_t168  \\\n",
       "0    0.885356   -0.294912    0.065527    0.217196    1.083831    0.154642   \n",
       "1   -0.045549   -0.602041    0.175532   -0.402959    0.456084    0.309465   \n",
       "2    2.987845   -0.356687    0.550757   -0.135315    0.387117   -0.252212   \n",
       "3   -0.774137   -1.245132   -0.645180    1.265170    1.589034    0.507678   \n",
       "4    1.028450    1.676547    1.805884    0.871031    1.575619    1.434036   \n",
       "\n",
       "   mel40_t169  mel40_t170  mel40_t171  \n",
       "0   -0.128929    1.162814    0.845345  \n",
       "1    0.584882   -0.170607    0.074577  \n",
       "2   -0.313473   -0.543209    0.339174  \n",
       "3   -0.070205   -0.492837    0.427526  \n",
       "4    1.352388    1.078937    2.005797  \n",
       "\n",
       "[5 rows x 6840 columns]"
      ]
     },
     "execution_count": 8,
     "metadata": {},
     "output_type": "execute_result"
    }
   ],
   "source": [
    "# take the Mel frequencies\n",
    "train_mel = train.iloc[:,87552:94392]\n",
    "song_mel = song.iloc[:,87552:94392]\n",
    "song_mel.head()"
   ]
  },
  {
   "cell_type": "code",
   "execution_count": 9,
   "metadata": {},
   "outputs": [],
   "source": [
    "# The binning function, that performs the above described operation, takes in input a dataframe d and a binwidth x \n",
    "# and gets in output the reduced matrix. \n",
    "# It is possible to see that different \"group-by\" functions has been tried, but we saw that keeping only the mean gave us the best\n",
    "# results.\n",
    "\n",
    "def binning(d,x):\n",
    "    start = 0\n",
    "    end = x\n",
    "    diz = {}\n",
    "    dim = d.shape[1]\n",
    "    while start < dim:\n",
    "        if end >= dim:\n",
    "            temp = d[d.columns[start:dim]]\n",
    "            mean = temp.mean(axis = 1)\n",
    "            #median = temp.median(axis=1)\n",
    "            #minimo = temp.min(axis = 1)\n",
    "            #massimo = temp.max(axis = 1)\n",
    "            #std = temp.std(axis=1)\n",
    "            #diff = massimo-minimo\n",
    "            diz[str(start)+'_'+str(dim)+'_mean'] = list(mean)\n",
    "            #diz[str(start)+'_'+str(dim)+'_std'] = list(std)\n",
    "            #diz[str(start)+'_'+str(dim)+'_median'] = list(median)\n",
    "            #diz[str(start)+'_'+str(dim)+'_diff'] = list(diff)\n",
    "            #diz[str(start)+'_'+str(dim)+'_minimo'] = list(minimo)\n",
    "            #diz[str(start)+'_'+str(dim)+'_massimo'] = list(massimo)\n",
    "            break\n",
    "        else:     \n",
    "            temp = d[d.columns[start:end]]\n",
    "            mean = temp.mean(axis = 1)\n",
    "            #median = temp.median(axis=1)\n",
    "            #minimo = temp.min(axis = 1)\n",
    "            #massimo = temp.max(axis = 1)\n",
    "            #std = temp.std(axis=1)\n",
    "            #diff = massimo-minimo\n",
    "            diz[str(start)+'_'+str(dim)+'_mean'] = list(mean)\n",
    "            #diz[str(start)+'_'+str(dim)+'_std'] = list(std)\n",
    "            #diz[str(start)+'_'+str(dim)+'_median'] = list(median)\n",
    "            #diz[str(start)+'_'+str(dim)+'_diff'] = list(diff)\n",
    "            #diz[str(start)+'_'+str(dim)+'_minimo'] = list(minimo)\n",
    "            #diz[str(start)+'_'+str(dim)+'_massimo'] = list(massimo)\n",
    "            start += x\n",
    "            end += x\n",
    "    final = pd.DataFrame(diz)\n",
    "    return final"
   ]
  },
  {
   "cell_type": "code",
   "execution_count": 10,
   "metadata": {},
   "outputs": [
    {
     "data": {
      "text/plain": [
       "(5, 40)"
      ]
     },
     "execution_count": 10,
     "metadata": {},
     "output_type": "execute_result"
    }
   ],
   "source": [
    "# applying the binning function on train and test and standardizing them\n",
    "\n",
    "train_mel = preprocessing.scale(binning(train_mel,171))\n",
    "song_mel = preprocessing.scale(binning(song_mel,171))\n",
    "song_mel.shape"
   ]
  },
  {
   "cell_type": "markdown",
   "metadata": {},
   "source": [
    "First of all we assume that the tempo in the entire song is fixed. We have 5 different pieces of the song and these may be 5 *very* different pieces, in which some of them in the model may not work \"well\". From this, instead of having 5 different 171x40 matrices we have one matrix of shape 855x40.Following the binning approach we should take the time average for each frequency in the 855x40 matrix reducing the matrix to a vector of shape 1x40. To perform this operation we treated the 5 rows as separated songs until the binning(binning included) and then we took the mean vector between these that in the end represent our final test-golden-song vector."
   ]
  },
  {
   "cell_type": "code",
   "execution_count": 11,
   "metadata": {},
   "outputs": [],
   "source": [
    "song_mel =  song_mel.mean(axis = 0)"
   ]
  },
  {
   "cell_type": "code",
   "execution_count": 12,
   "metadata": {},
   "outputs": [
    {
     "data": {
      "text/plain": [
       "array([[ 1.11022302e-15,  3.55271368e-16,  0.00000000e+00,\n",
       "        -3.10862447e-16,  4.44089210e-17,  6.66133815e-17,\n",
       "        -3.33066907e-17,  4.44089210e-17,  2.22044605e-16,\n",
       "        -8.88178420e-17,  1.77635684e-16, -4.44089210e-16,\n",
       "        -4.44089210e-17, -1.33226763e-16,  2.22044605e-16,\n",
       "        -4.44089210e-17, -1.33226763e-16, -8.88178420e-17,\n",
       "        -8.88178420e-17,  0.00000000e+00, -8.88178420e-17,\n",
       "        -8.88178420e-17, -8.88178420e-17,  8.88178420e-17,\n",
       "        -4.44089210e-17, -2.22044605e-16, -5.55111512e-17,\n",
       "         1.33226763e-16,  2.22044605e-16, -1.33226763e-16,\n",
       "        -4.88498131e-16,  7.54951657e-16, -4.44089210e-17,\n",
       "        -2.22044605e-16,  1.60982339e-16,  3.88578059e-17,\n",
       "         4.44089210e-17,  3.55271368e-16,  6.66133815e-17,\n",
       "        -8.88178420e-17]])"
      ]
     },
     "execution_count": 12,
     "metadata": {},
     "output_type": "execute_result"
    }
   ],
   "source": [
    "song_mel = song_mel.reshape(1, -1)\n",
    "song_mel"
   ]
  },
  {
   "cell_type": "code",
   "execution_count": 13,
   "metadata": {},
   "outputs": [
    {
     "data": {
      "text/plain": [
       "(1, 40)"
      ]
     },
     "execution_count": 13,
     "metadata": {},
     "output_type": "execute_result"
    }
   ],
   "source": [
    "# Applying the kernel pca to the train and test. The cosine kernel with 40 components turned out to work pretty well for us\n",
    "\n",
    "transformer = KernelPCA(n_components=40, kernel='cosine')\n",
    "train_mel = transformer.fit_transform(train_mel)\n",
    "song_mel = transformer.transform(song_mel)\n",
    "song_mel.shape"
   ]
  },
  {
   "cell_type": "code",
   "execution_count": 14,
   "metadata": {},
   "outputs": [],
   "source": [
    "train_mel = pd.DataFrame(train_mel)\n",
    "song_mel = pd.DataFrame(song_mel)"
   ]
  },
  {
   "cell_type": "code",
   "execution_count": 15,
   "metadata": {},
   "outputs": [],
   "source": [
    "# concatenate the transformed dataset and adding the dummied genre feature\n",
    "\n",
    "train_mel = pd.concat([train_mel,pd.get_dummies(train['genre'], prefix='genre')], axis=1)"
   ]
  },
  {
   "cell_type": "code",
   "execution_count": 16,
   "metadata": {},
   "outputs": [
    {
     "data": {
      "text/html": [
       "<div>\n",
       "<style scoped>\n",
       "    .dataframe tbody tr th:only-of-type {\n",
       "        vertical-align: middle;\n",
       "    }\n",
       "\n",
       "    .dataframe tbody tr th {\n",
       "        vertical-align: top;\n",
       "    }\n",
       "\n",
       "    .dataframe thead th {\n",
       "        text-align: right;\n",
       "    }\n",
       "</style>\n",
       "<table border=\"1\" class=\"dataframe\">\n",
       "  <thead>\n",
       "    <tr style=\"text-align: right;\">\n",
       "      <th></th>\n",
       "      <th>0</th>\n",
       "      <th>1</th>\n",
       "      <th>2</th>\n",
       "      <th>3</th>\n",
       "      <th>4</th>\n",
       "      <th>5</th>\n",
       "      <th>6</th>\n",
       "      <th>7</th>\n",
       "      <th>8</th>\n",
       "      <th>9</th>\n",
       "      <th>...</th>\n",
       "      <th>genre_11</th>\n",
       "      <th>genre_12</th>\n",
       "      <th>genre_13</th>\n",
       "      <th>genre_14</th>\n",
       "      <th>genre_15</th>\n",
       "      <th>genre_16</th>\n",
       "      <th>genre_17</th>\n",
       "      <th>genre_18</th>\n",
       "      <th>genre_19</th>\n",
       "      <th>genre_20</th>\n",
       "    </tr>\n",
       "  </thead>\n",
       "  <tbody>\n",
       "    <tr>\n",
       "      <th>0</th>\n",
       "      <td>0.103771</td>\n",
       "      <td>-0.094932</td>\n",
       "      <td>-0.112644</td>\n",
       "      <td>-0.091436</td>\n",
       "      <td>-0.184962</td>\n",
       "      <td>0.163099</td>\n",
       "      <td>0.071701</td>\n",
       "      <td>-0.035763</td>\n",
       "      <td>0.001986</td>\n",
       "      <td>0.296881</td>\n",
       "      <td>...</td>\n",
       "      <td>0</td>\n",
       "      <td>1</td>\n",
       "      <td>0</td>\n",
       "      <td>0</td>\n",
       "      <td>0</td>\n",
       "      <td>0</td>\n",
       "      <td>0</td>\n",
       "      <td>0</td>\n",
       "      <td>0</td>\n",
       "      <td>0</td>\n",
       "    </tr>\n",
       "  </tbody>\n",
       "</table>\n",
       "<p>1 rows × 60 columns</p>\n",
       "</div>"
      ],
      "text/plain": [
       "          0         1         2         3         4         5         6  \\\n",
       "0  0.103771 -0.094932 -0.112644 -0.091436 -0.184962  0.163099  0.071701   \n",
       "\n",
       "          7         8         9  ...  genre_11  genre_12  genre_13  genre_14  \\\n",
       "0 -0.035763  0.001986  0.296881  ...         0         1         0         0   \n",
       "\n",
       "   genre_15  genre_16  genre_17  genre_18  genre_19  genre_20  \n",
       "0         0         0         0         0         0         0  \n",
       "\n",
       "[1 rows x 60 columns]"
      ]
     },
     "execution_count": 16,
     "metadata": {},
     "output_type": "execute_result"
    }
   ],
   "source": [
    "for i in range(1,21):\n",
    "    if i == 12:\n",
    "        song_mel['genre_' + str(i)] = 1\n",
    "    else:\n",
    "        song_mel['genre_' + str(i)] = 0\n",
    "song_mel"
   ]
  },
  {
   "cell_type": "code",
   "execution_count": 17,
   "metadata": {},
   "outputs": [
    {
     "data": {
      "text/plain": [
       "\"\\nscore = []\\ncs = np.arange(415,425,1)\\n#cs = [0.1,0.0001,0.00001]\\nfor i in cs:\\n    reg = SVR(kernel='rbf', C=i,epsilon=0.0001)\\n    scores = cross_val_score(reg, train_mel, target, scoring='neg_root_mean_squared_error')\\n    #score.append(scores.mean())\\n    print(i, -scores.mean())\\n\""
      ]
     },
     "execution_count": 17,
     "metadata": {},
     "output_type": "execute_result"
    }
   ],
   "source": [
    "# Model tuning of the parameter(s) in the SVR model. The rbf turned out to work best for us. For each parameter the cross-validated \n",
    "# it with 5 folds.\n",
    "\n",
    "'''\n",
    "score = []\n",
    "cs = np.arange(415,425,1)\n",
    "#cs = [0.1,0.0001,0.00001]\n",
    "for i in cs:\n",
    "    reg = SVR(kernel='rbf', C=i,epsilon=0.0001)\n",
    "    scores = cross_val_score(reg, train_mel, target, scoring='neg_root_mean_squared_error')\n",
    "    #score.append(scores.mean())\n",
    "    print(i, -scores.mean())\n",
    "'''"
   ]
  },
  {
   "cell_type": "code",
   "execution_count": 18,
   "metadata": {},
   "outputs": [
    {
     "data": {
      "text/plain": [
       "SVR(C=421, epsilon=0.0001)"
      ]
     },
     "execution_count": 18,
     "metadata": {},
     "output_type": "execute_result"
    }
   ],
   "source": [
    "# our best parameters\n",
    "\n",
    "reg = SVR(kernel='rbf', C=421, epsilon=0.0001)\n",
    "reg.fit(train_mel,target)"
   ]
  },
  {
   "cell_type": "code",
   "execution_count": 19,
   "metadata": {},
   "outputs": [
    {
     "name": "stdout",
     "output_type": "stream",
     "text": [
      "The tempo estimate for the golden song is: [123.20087959]\n"
     ]
    }
   ],
   "source": [
    "submission = pd.DataFrame({\"id\":0, \"target\":reg.predict(song_mel)})\n",
    "submission.to_csv('submission_song_.csv', index=False)\n",
    "#submission.round(decimals=0).to_csv('submission_mel_round.csv', index=False)\n",
    "print('The tempo estimate for the golden song is:', reg.predict(song_mel))"
   ]
  }
 ],
 "metadata": {
  "kernelspec": {
   "display_name": "Python 3",
   "language": "python",
   "name": "python3"
  },
  "language_info": {
   "codemirror_mode": {
    "name": "ipython",
    "version": 3
   },
   "file_extension": ".py",
   "mimetype": "text/x-python",
   "name": "python",
   "nbconvert_exporter": "python",
   "pygments_lexer": "ipython3",
   "version": "3.7.4"
  }
 },
 "nbformat": 4,
 "nbformat_minor": 4
}
